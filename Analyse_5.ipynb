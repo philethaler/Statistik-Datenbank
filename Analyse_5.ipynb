{
 "cells": [
  {
   "cell_type": "code",
   "execution_count": null,
   "id": "a2fd0cb7",
   "metadata": {},
   "outputs": [],
   "source": [
    "# Grundlegende Bibliotheken\n",
    "import pandas as pd\n",
    "import matplotlib.pyplot as plt\n",
    "import seaborn as sns\n",
    "import kagglehub"
   ]
  },
  {
   "cell_type": "code",
   "execution_count": null,
   "id": "f4ea551a",
   "metadata": {},
   "outputs": [],
   "source": [
    "# Einstellungen für bessere Plots\n",
    "plt.rcParams['figure.figsize'] = (10, 6)\n",
    "\n",
    "# Pandas Optionen\n",
    "pd.set_option('display.max_columns', None)\n",
    "pd.set_option('display.width', None)"
   ]
  },
  {
   "cell_type": "code",
   "execution_count": null,
   "id": "71d43011",
   "metadata": {},
   "outputs": [],
   "source": [
    "# Load the latest version\n",
    "ds = kagglehub.dataset_load(\n",
    "  kagglehub.KaggleDatasetAdapter.PANDAS,\n",
    "  \"malaiarasugraj/global-health-statistics\",\"Global Health Statistics.csv\")\n",
    "\n",
    "\n",
    "# Dimension des Datensatzes\n",
    "print(f\"Anzahl Zeilen: {ds.shape[0]}\")\n",
    "print(f\"Anzahl Spalten: {ds.shape[1]}\")"
   ]
  }
 ],
 "metadata": {
  "language_info": {
   "name": "python"
  }
 },
 "nbformat": 4,
 "nbformat_minor": 5
}
