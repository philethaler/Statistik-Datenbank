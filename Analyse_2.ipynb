{
 "cells": [
  {
   "cell_type": "code",
   "execution_count": 1,
   "id": "cdc2c8f7",
   "metadata": {},
   "outputs": [
    {
     "name": "stderr",
     "output_type": "stream",
     "text": [
      "/Users/philsolenthaler 1/Documents/Universität/BCS/3.Semester/Statistik/DatenbankenProjetk/Statistik-Datenbank/.venv/lib/python3.11/site-packages/tqdm/auto.py:21: TqdmWarning: IProgress not found. Please update jupyter and ipywidgets. See https://ipywidgets.readthedocs.io/en/stable/user_install.html\n",
      "  from .autonotebook import tqdm as notebook_tqdm\n"
     ]
    }
   ],
   "source": [
    "# Grundlegende Bibliotheken\n",
    "import pandas as pd\n",
    "import matplotlib.pyplot as plt\n",
    "import seaborn as sns\n",
    "import kagglehub"
   ]
  },
  {
   "cell_type": "code",
   "execution_count": 2,
   "id": "98314142",
   "metadata": {},
   "outputs": [],
   "source": [
    "# Einstellungen für bessere Plots\n",
    "plt.rcParams['figure.figsize'] = (10, 6)\n",
    "\n",
    "# Pandas Optionen\n",
    "pd.set_option('display.max_columns', None)\n",
    "pd.set_option('display.width', None)"
   ]
  },
  {
   "cell_type": "code",
   "execution_count": 3,
   "id": "d9837846",
   "metadata": {},
   "outputs": [
    {
     "name": "stdout",
     "output_type": "stream",
     "text": [
      "Downloading from https://www.kaggle.com/api/v1/datasets/download/priyamchoksi/credit-card-transactions-dataset?dataset_version_number=1...\n"
     ]
    },
    {
     "name": "stderr",
     "output_type": "stream",
     "text": [
      "100%|██████████| 145M/145M [00:08<00:00, 18.6MB/s] "
     ]
    },
    {
     "name": "stdout",
     "output_type": "stream",
     "text": [
      "Extracting files...\n"
     ]
    },
    {
     "name": "stderr",
     "output_type": "stream",
     "text": [
      "\n"
     ]
    }
   ],
   "source": [
    "\n",
    "path = kagglehub.dataset_download(\"priyamchoksi/credit-card-transactions-dataset\")\n",
    "\n",
    "ds = pd.read_csv(f\"{path}/credit_card_transactions.csv\")\n"
   ]
  },
  {
   "cell_type": "markdown",
   "id": "0bcee5d6",
   "metadata": {},
   "source": [
    "### Lagekennzahlen (Analyse der Prevalence Rate)"
   ]
  },
  {
   "cell_type": "code",
   "execution_count": 17,
   "id": "072faff4",
   "metadata": {},
   "outputs": [
    {
     "name": "stdout",
     "output_type": "stream",
     "text": [
      "Mittelwert: 70.35103545607032\n",
      "Median: 47.52\n",
      "Quantile (25%,50%,75%): {0.25: 9.65, 0.5: 47.52, 0.75: 83.14}\n",
      "Modus: [1.14]\n",
      "min, max: 1.0 28948.9\n",
      "Trimmed Mean (10%): 49.83294629123474\n"
     ]
    }
   ],
   "source": [
    "# Beispiel: Prevalence Rate (%)\n",
    "s = ds[\"amt\"].dropna()\n",
    "\n",
    "print(\"Mittelwert:\", s.mean())\n",
    "print(\"Median:\", s.median())\n",
    "print(\"Quantile (25%,50%,75%):\", s.quantile([0.25,0.5,0.75]).to_dict())\n",
    "print(\"Modus:\", s.mode().tolist())\n",
    "print(\"min, max:\", s.min(), s.max())\n",
    "\n",
    "q_low, q_high = s.quantile(0.1), s.quantile(0.9)\n",
    "trimmed = s[(s >= q_low) & (s <= q_high)].mean()\n",
    "print(\"Trimmed Mean (10%):\", trimmed)"
   ]
  },
  {
   "cell_type": "markdown",
   "id": "5f0a1c20",
   "metadata": {},
   "source": [
    "### Streuung"
   ]
  },
  {
   "cell_type": "code",
   "execution_count": 5,
   "id": "f41036b6",
   "metadata": {},
   "outputs": [
    {
     "name": "stdout",
     "output_type": "stream",
     "text": [
      "Varianz: 25701.232223267565\n",
      "Standardabweichung: 160.3160385715277\n",
      "IQR: 73.49\n",
      "MAD: 37.5\n"
     ]
    }
   ],
   "source": [
    "print(\"Varianz:\", s.var())\n",
    "print(\"Standardabweichung:\", s.std())\n",
    "iqr = s.quantile(0.75) - s.quantile(0.25)\n",
    "mad = (s - s.median()).abs().median()\n",
    "print(\"IQR:\", iqr)\n",
    "print(\"MAD:\", mad)"
   ]
  },
  {
   "cell_type": "markdown",
   "id": "405d7da4",
   "metadata": {},
   "source": [
    "### Ausreisserprüfung\n",
    "\n",
    "##### Klassisch: Z-Score"
   ]
  },
  {
   "cell_type": "code",
   "execution_count": 6,
   "id": "88482334",
   "metadata": {},
   "outputs": [
    {
     "name": "stdout",
     "output_type": "stream",
     "text": [
      "Anzahl Ausreißer (Z-Score >3): 12738\n"
     ]
    }
   ],
   "source": [
    "z = (s - s.mean()) / s.std()\n",
    "outliers_z = s[abs(z) > 3]\n",
    "print(\"Anzahl Ausreißer (Z-Score >3):\", len(outliers_z))"
   ]
  },
  {
   "cell_type": "markdown",
   "id": "6ede43e0",
   "metadata": {},
   "source": [
    "##### Modifizierter Z-Score"
   ]
  },
  {
   "cell_type": "code",
   "execution_count": 7,
   "id": "d55ac9c2",
   "metadata": {},
   "outputs": [
    {
     "name": "stdout",
     "output_type": "stream",
     "text": [
      "Anzahl Ausreißer (mod. Z-Score >3.5): 40359\n"
     ]
    }
   ],
   "source": [
    "median = s.median()\n",
    "mad = (s - median).abs().median()\n",
    "mod_z = 0.6745 * (s - median) / mad\n",
    "outliers_modz = s[mod_z.abs() > 3.5]\n",
    "print(\"Anzahl Ausreißer (mod. Z-Score >3.5):\", len(outliers_modz))"
   ]
  },
  {
   "cell_type": "markdown",
   "id": "5bfbcda1",
   "metadata": {},
   "source": [
    "### Verteilungsform (in VL3(Analyse_3.ipynb) genauer)"
   ]
  },
  {
   "cell_type": "code",
   "execution_count": 12,
   "id": "9dec1155",
   "metadata": {},
   "outputs": [
    {
     "name": "stderr",
     "output_type": "stream",
     "text": [
      "/Users/philsolenthaler 1/Documents/Universität/BCS/3.Semester/Statistik/DatenbankenProjetk/Statistik-Datenbank/.venv/lib/python3.11/site-packages/IPython/core/pylabtools.py:170: UserWarning: Creating legend with loc=\"best\" can be slow with large amounts of data.\n",
      "  fig.canvas.print_figure(bytes_io, **kw)\n"
     ]
    },
    {
     "data": {
      "image/png": "[encoded data removed]",
      "text/plain": [
       "<Figure size 800x500 with 1 Axes>"
      ]
     },
     "metadata": {},
     "output_type": "display_data"
    }
   ],
   "source": [
    "plt.figure(figsize=(8,5))\n",
    "\n",
    "# Histogramm mit normalen Häufigkeiten (Counts)\n",
    "sns.histplot(s, bins=\"fd\", color=\"pink\", edgecolor=\"purple\", stat=\"count\")\n",
    "\n",
    "# KDE separat in anderer Farbe\n",
    "sns.kdeplot(s, color=\"red\", lw=2)\n",
    "\n",
    "# Mittelwert und Median einzeichnen\n",
    "plt.axvline(s.mean(), color=\"green\", linestyle=\"-\", label=\"Mean\")\n",
    "plt.axvline(s.median(), color=\"blue\", linestyle=\"--\", label=\"Median\")\n",
    "\n",
    "plt.title(\"Verteilung: Amt\")\n",
    "plt.xlabel(\"Amt\")\n",
    "plt.ylabel(\"Anzahl\")\n",
    "plt.xlim(0, 500) # Begrenzung des x-Achsenbereichs\n",
    "plt.legend()\n",
    "plt.show()"
   ]
  },
  {
   "cell_type": "code",
   "execution_count": 14,
   "id": "47cc4c3b",
   "metadata": {},
   "outputs": [
    {
     "name": "stdout",
     "output_type": "stream",
     "text": [
      "\n",
      "--- city_pop ---\n",
      "Mean: 88824.44\n",
      "Median: 2456.0\n",
      "Std: 301956.36\n",
      "\n",
      "--- age ---\n",
      "Mean: 52.01\n",
      "Median: 49.85\n",
      "Std: 17.39\n"
     ]
    }
   ],
   "source": [
    "\n",
    "\n",
    "# Falls dein DataFrame 'df' heißt:\n",
    "ds[\"dob\"] = pd.to_datetime(ds[\"dob\"], errors=\"coerce\")  # sicherstellen, dass es Datumswerte sind\n",
    "ds[\"age\"] = (pd.Timestamp(\"now\") - ds[\"dob\"]).dt.days / 365.25  # Alter in Jahren\n",
    "\n",
    "suitable_cols = [\"city_pop\", \"age\"]\n",
    "\n",
    "for col in suitable_cols:\n",
    "    print(\"\\n---\", col, \"---\")\n",
    "    s = ds[col].dropna()\n",
    "    print(\"Mean:\", round(s.mean(), 2))\n",
    "    print(\"Median:\", round(s.median(), 2))\n",
    "    print(\"Std:\", round(s.std(), 2))\n"
   ]
  },
  {
   "cell_type": "code",
   "execution_count": 16,
   "id": "0c5cb23d",
   "metadata": {},
   "outputs": [
    {
     "name": "stdout",
     "output_type": "stream",
     "text": [
      "         mean  median    std   count\n",
      "gender                              \n",
      "F       51.91   49.76  17.49  709863\n",
      "M       52.12   50.25  17.27  586812\n"
     ]
    }
   ],
   "source": [
    "print(ds.groupby(\"gender\")[\"age\"].agg([\"mean\", \"median\", \"std\", \"count\"]).round(2))\n"
   ]
  },
  {
   "cell_type": "code",
   "execution_count": null,
   "id": "f785d757",
   "metadata": {},
   "outputs": [],
   "source": []
  }
 ],
 "metadata": {
  "kernelspec": {
   "display_name": ".venv",
   "language": "python",
   "name": "python3"
  },
  "language_info": {
   "codemirror_mode": {
    "name": "ipython",
    "version": 3
   },
   "file_extension": ".py",
   "mimetype": "text/x-python",
   "name": "python",
   "nbconvert_exporter": "python",
   "pygments_lexer": "ipython3",
   "version": "3.11.5"
  }
 },
 "nbformat": 4,
 "nbformat_minor": 5
}
